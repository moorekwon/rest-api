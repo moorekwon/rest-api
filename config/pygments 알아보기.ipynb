{
 "cells": [
  {
   "cell_type": "code",
   "execution_count": 1,
   "metadata": {},
   "outputs": [],
   "source": [
    "from pygments.lexers import get_all_lexers\n",
    "from pygments.styles import get_all_styles"
   ]
  },
  {
   "cell_type": "code",
   "execution_count": 10,
   "metadata": {},
   "outputs": [],
   "source": [
    "LEXERS = []\n",
    "\n",
    "for item in get_all_lexers():\n",
    "#     print('item >>', item)\n",
    "    \n",
    "    if item[1]:\n",
    "        LEXERS.append(item)"
   ]
  },
  {
   "cell_type": "markdown",
   "metadata": {},
   "source": [
    "pygments\n",
    "- 코드를 받았을 때 그 코드에 색깔을 입혀주는 라이브러리"
   ]
  },
  {
   "cell_type": "code",
   "execution_count": 9,
   "metadata": {
    "scrolled": true
   },
   "outputs": [],
   "source": [
    "LANGUAGES_CHOICES = []\n",
    "\n",
    "for item in LEXERS:\n",
    "    cur_tuple = (item[1][0], item[0])\n",
    "#     print('cur_tuple >> ', cur_tuple)\n",
    "    \n",
    "    LANGUAGES_CHOICES.append(cur_tuple)\n",
    "LANGUAGES_CHOICES.sort()"
   ]
  },
  {
   "cell_type": "code",
   "execution_count": 14,
   "metadata": {},
   "outputs": [],
   "source": [
    "STYLE_CHOICES = []\n",
    "\n",
    "for item in get_all_styles():\n",
    "#     print('item >>', item)\n",
    "    \n",
    "    cur_tuple = (item, item)\n",
    "    STYLE_CHOICES.append(cur_tuple)"
   ]
  }
 ],
 "metadata": {
  "kernelspec": {
   "display_name": "Django Shell-Plus",
   "language": "python",
   "name": "django_extensions"
  },
  "language_info": {
   "codemirror_mode": {
    "name": "ipython",
    "version": 3
   },
   "file_extension": ".py",
   "mimetype": "text/x-python",
   "name": "python",
   "nbconvert_exporter": "python",
   "pygments_lexer": "ipython3",
   "version": "3.7.5"
  }
 },
 "nbformat": 4,
 "nbformat_minor": 4
}
