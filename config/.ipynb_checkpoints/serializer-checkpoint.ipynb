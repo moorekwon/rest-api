{
 "cells": [
  {
   "cell_type": "code",
   "execution_count": 8,
   "metadata": {},
   "outputs": [],
   "source": [
    "snippet = Snippet.objects.get_or_create(\n",
    "    title='Sample snippet',\n",
    "    code=('class Post(models.Model):\\n'\n",
    "          '    title = models.CharField()')\n",
    ")[0]"
   ]
  },
  {
   "cell_type": "code",
   "execution_count": 9,
   "metadata": {},
   "outputs": [
    {
     "data": {
      "text/plain": [
       "'class Post(models.Model):\\n    title = models.CharField()'"
      ]
     },
     "execution_count": 9,
     "metadata": {},
     "output_type": "execute_result"
    }
   ],
   "source": [
    "snippet.code"
   ]
  },
  {
   "cell_type": "code",
   "execution_count": 10,
   "metadata": {},
   "outputs": [],
   "source": [
    "from snippets.serializers import SnippetSerializer\n",
    "\n",
    "serializer = SnippetSerializer(snippet)"
   ]
  },
  {
   "cell_type": "code",
   "execution_count": 14,
   "metadata": {},
   "outputs": [
    {
     "data": {
      "text/plain": [
       "<Snippet: Snippet object (2)>"
      ]
     },
     "execution_count": 14,
     "metadata": {},
     "output_type": "execute_result"
    }
   ],
   "source": [
    "# Custom Python object\n",
    "snippet"
   ]
  },
  {
   "cell_type": "code",
   "execution_count": 16,
   "metadata": {},
   "outputs": [
    {
     "data": {
      "text/plain": [
       "SnippetSerializer(<Snippet: Snippet object (2)>):\n",
       "    pk = IntegerField(read_only=True)\n",
       "    title = CharField(allow_blank=True, max_length=100, required=False)\n",
       "    code = CharField()"
      ]
     },
     "execution_count": 16,
     "metadata": {},
     "output_type": "execute_result"
    }
   ],
   "source": [
    "# custom object를 python data type으로 변환하는 Serializer 객체\n",
    "serializer"
   ]
  },
  {
   "cell_type": "code",
   "execution_count": 17,
   "metadata": {},
   "outputs": [
    {
     "data": {
      "text/plain": [
       "{'pk': 2, 'title': 'Sample snippet', 'code': 'class Post(models.Model):\\n    title = models.CharField()'}"
      ]
     },
     "execution_count": 17,
     "metadata": {},
     "output_type": "execute_result"
    }
   ],
   "source": [
    "# Serializer가 custom object를 python data type으로 변환\n",
    "serializer.data"
   ]
  },
  {
   "cell_type": "code",
   "execution_count": 19,
   "metadata": {},
   "outputs": [
    {
     "data": {
      "text/plain": [
       "'{\"pk\": 2, \"title\": \"Sample snippet\", \"code\": \"class Post(models.Model):\\\\n    title = models.CharField()\"}'"
      ]
     },
     "execution_count": 19,
     "metadata": {},
     "output_type": "execute_result"
    }
   ],
   "source": [
    "# 내장 json 모듈을 사용해 python data type을 json string으로 변환\n",
    "import json\n",
    "\n",
    "json_data = json.dumps(serializer.data)\n",
    "json_data"
   ]
  }
 ],
 "metadata": {
  "kernelspec": {
   "display_name": "Django Shell-Plus",
   "language": "python",
   "name": "django_extensions"
  },
  "language_info": {
   "codemirror_mode": {
    "name": "ipython",
    "version": 3
   },
   "file_extension": ".py",
   "mimetype": "text/x-python",
   "name": "python",
   "nbconvert_exporter": "python",
   "pygments_lexer": "ipython3",
   "version": "3.7.5"
  }
 },
 "nbformat": 4,
 "nbformat_minor": 4
}
